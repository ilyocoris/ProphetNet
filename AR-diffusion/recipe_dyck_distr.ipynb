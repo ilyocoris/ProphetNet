{
 "cells": [
  {
   "cell_type": "code",
   "execution_count": null,
   "metadata": {},
   "outputs": [],
   "source": [
    "import os\n",
    "import re\n",
    "import stanza\n",
    "import pandas as pd\n",
    "from tqdm import tqdm\n",
    "from nltk import Tree"
   ]
  },
  {
   "cell_type": "code",
   "execution_count": null,
   "metadata": {},
   "outputs": [],
   "source": [
    "# NEEDS PYTORCH 2.1.2\n",
    "parser = stanza.Pipeline(\n",
    "    lang='en', \n",
    "    # processors='tokenize,mwt,pos,lemma,depparse'\n",
    "    processors='tokenize,pos,constituency'\n",
    ")"
   ]
  },
  {
   "cell_type": "code",
   "execution_count": null,
   "metadata": {},
   "outputs": [],
   "source": [
    "def natural_language_to_dyck(sentence, parser):\n",
    "    doc = parser(sentence)\n",
    "    tree = str(doc.sentences[0].constituency)\n",
    "    tree = re.sub(r\"[^()]\", \"\", tree)\n",
    "    return tree\n",
    "\n",
    "def max_nested_depth(dyck_sentence):\n",
    "    max_depth = 0\n",
    "    current_depth = 0\n",
    "\n",
    "    for char in dyck_sentence:\n",
    "        if char == '(':\n",
    "            current_depth += 1\n",
    "            max_depth = max(max_depth, current_depth)\n",
    "        elif char == ')':\n",
    "            current_depth -= 1\n",
    "\n",
    "    return max_depth\n",
    "\n",
    "natural_language_to_dyck(\"i love you\", parser)\n"
   ]
  },
  {
   "cell_type": "code",
   "execution_count": null,
   "metadata": {},
   "outputs": [],
   "source": [
    "task = \"recipes\"\n",
    "model = \"eb6_d6_c128_lr8e-4\"\n",
    "checkpoint = \"30000\"\n",
    "data_path = \"my_output/recipes\""
   ]
  },
  {
   "cell_type": "code",
   "execution_count": null,
   "metadata": {},
   "outputs": [],
   "source": [
    "with open(f\"{data_path}/{model}/gen/dev_{checkpoint}.gen\") as f:\n",
    "    gens = f.readlines()"
   ]
  },
  {
   "cell_type": "code",
   "execution_count": null,
   "metadata": {},
   "outputs": [],
   "source": [
    "results = []\n",
    "for gen in tqdm(gens[:10000], total=len(gens[:10000])):\n",
    "    gen = gen.split(\"- \")\n",
    "    for g in gen:\n",
    "        g = g.strip()\n",
    "        if len(g) > 2:\n",
    "            dyck_sentence = natural_language_to_dyck(g, parser)\n",
    "            results.append({\n",
    "                \"sentence\": g,\n",
    "                \"dyck\": dyck_sentence,\n",
    "                \"max_depth\": max_nested_depth(natural_language_to_dyck(g, parser)),\n",
    "                \"length\": len(dyck_sentence),\n",
    "            })"
   ]
  },
  {
   "cell_type": "code",
   "execution_count": null,
   "metadata": {},
   "outputs": [],
   "source": [
    "df = pd.DataFrame(results)\n",
    "df.to_csv(f\"{data_path}/{model}/dyck/dev_{checkpoint}.csv\", index=False)"
   ]
  },
  {
   "cell_type": "code",
   "execution_count": null,
   "metadata": {},
   "outputs": [],
   "source": [
    "df = pd.DataFrame(results)\n",
    "# get only length & max_depth\n",
    "df = df[[\"length\", \"max_depth\"]]\n",
    "# plot a heatmap of the max depth vs length\n",
    "import seaborn as sns\n",
    "import matplotlib.pyplot as plt\n",
    "heatmap_data = df.pivot_table(index='length', columns='max_depth', aggfunc=len, fill_value=0)\n",
    "mask = heatmap_data != 0\n",
    "\n",
    "# Create the heatmap using Seaborn\n",
    "plt.figure(figsize=(10, 8))\n",
    "# possible cmpaps that higher is darker: 'viridis', 'rocket', 'mako', 'cividis'\n",
    "# cmap = sns.diverging_palette(2000, -2000, as_cmap=True)\n",
    "sns.heatmap(heatmap_data, cmap='viridis_r',  fmt='g', mask=~mask, linewidths=.5)#annot_kws={\"size\": 10}, annot=heatmap_data.values,\n",
    "# make the x and y labels bigger\n",
    "plt.xticks(fontsize=14)\n",
    "plt.yticks(fontsize=14)\n",
    "# xticks only every 5 with number shown\n",
    "plt.xticks(range(0, 21, 5), range(0, 21, 5))\n",
    "# yticks evert 10\n",
    "plt.yticks(range(0, 101, 10), range(0, 101, 10))\n",
    "# change xtick label\n",
    "plt.xlabel('Max Depth', fontsize=16)\n",
    "plt.ylabel('Length', fontsize=16)\n",
    "\n",
    "# plt.title('Heatmap of Length vs Max Depth in Recipe Directions')\n",
    "plt.show()"
   ]
  }
 ],
 "metadata": {
  "kernelspec": {
   "display_name": ".venv",
   "language": "python",
   "name": "python3"
  },
  "language_info": {
   "codemirror_mode": {
    "name": "ipython",
    "version": 3
   },
   "file_extension": ".py",
   "mimetype": "text/x-python",
   "name": "python",
   "nbconvert_exporter": "python",
   "pygments_lexer": "ipython3",
   "version": "3.8.10"
  }
 },
 "nbformat": 4,
 "nbformat_minor": 2
}
