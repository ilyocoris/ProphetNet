{
 "cells": [
  {
   "cell_type": "code",
   "execution_count": 1,
   "metadata": {},
   "outputs": [],
   "source": [
    "import random"
   ]
  },
  {
   "cell_type": "code",
   "execution_count": 3,
   "metadata": {},
   "outputs": [],
   "source": [
    "modulus = 113\n",
    "data = []\n",
    "for a in range(0,modulus):\n",
    "    for b in range(0,modulus):\n",
    "        data.append({\n",
    "            \"src\": str(a) + \" + \" + str(b),\n",
    "            \"tgt\": str((a + b)%modulus)\n",
    "        })\n",
    "\n",
    "# 20% train, 70% dev, 10% test\n",
    "random.shuffle(data)\n",
    "train = data[:int(len(data)*0.2)]\n",
    "dev = data[int(len(data)*0.2):int(len(data)*0.9)]\n",
    "test = data[int(len(data)*0.9):]\n",
    "\n",
    "data_path = \"data/modulus/+/\"\n",
    "# save to train.src, train.tgt, dev.src, dev.tgt, test.src, test.tgt\n",
    "for d, name in zip([train, dev, test], [\"train\", \"dev\", \"test\"]):\n",
    "    with open(data_path + name + \".src\", \"w\") as f:\n",
    "        for line in d:\n",
    "            f.write(line[\"src\"] + \"\\n\")\n",
    "    with open(data_path + name + \".tgt\", \"w\") as f:\n",
    "        for line in d:\n",
    "            f.write(line[\"tgt\"] + \"\\n\")"
   ]
  }
 ],
 "metadata": {
  "kernelspec": {
   "display_name": "Python 3",
   "language": "python",
   "name": "python3"
  },
  "language_info": {
   "codemirror_mode": {
    "name": "ipython",
    "version": 3
   },
   "file_extension": ".py",
   "mimetype": "text/x-python",
   "name": "python",
   "nbconvert_exporter": "python",
   "pygments_lexer": "ipython3",
   "version": "3.8.10"
  }
 },
 "nbformat": 4,
 "nbformat_minor": 2
}
