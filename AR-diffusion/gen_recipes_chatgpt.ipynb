{
 "cells": [
  {
   "cell_type": "code",
   "execution_count": null,
   "metadata": {},
   "outputs": [],
   "source": [
    "import re\n",
    "import json\n",
    "from openai import OpenAI\n",
    "from dotenv import load_dotenv\n",
    "from langchain import PromptTemplate\n",
    "load_dotenv()\n",
    "client = OpenAI()"
   ]
  },
  {
   "cell_type": "code",
   "execution_count": null,
   "metadata": {},
   "outputs": [],
   "source": [
    "test_src_path = \"data/raw/recipes/dev.src\"\n",
    "def load_from_lines(path):\n",
    "    with open(path, 'r') as f:\n",
    "        return [line.strip() for line in f]\n",
    "test_src = load_from_lines(test_src_path)"
   ]
  },
  {
   "cell_type": "code",
   "execution_count": null,
   "metadata": {},
   "outputs": [],
   "source": [
    "target_path = \"my_output/recipes/gpt-3.5-turbo/gen/dev\""
   ]
  },
  {
   "cell_type": "code",
   "execution_count": null,
   "metadata": {},
   "outputs": [],
   "source": [
    "prompt_template = PromptTemplate.from_template(\"You have a recipe with a masked section. Please fill in the missing part of the recipe covered by [MASK]. Note that [MASK] can be several sentences split by \\n. Output only the text that you generate for the [MASK], not the whole recipe. Do not include any [MASK] token in your answer. Recipe: {recipe}. \\n [MASK]:\")"
   ]
  },
  {
   "cell_type": "code",
   "execution_count": null,
   "metadata": {},
   "outputs": [],
   "source": [
    "completions = []\n",
    "for i in range(1000):\n",
    "  prompt = prompt_template.format(recipe=test_src[i])\n",
    "  completion = client.chat.completions.create(\n",
    "    model=\"gpt-3.5-turbo\",\n",
    "    messages=[\n",
    "      {\"role\": \"system\", \"content\": \"You generate sentences masked by the [MASK] token.\"},\n",
    "      {\"role\": \"user\", \"content\": prompt}\n",
    "    ],\n",
    "    n=10,\n",
    "    temperature=1,\n",
    "  )\n",
    "  print([c.message.content for c in completion.choices])\n",
    "  completions.append([c.message.content for c in completion.choices])"
   ]
  },
  {
   "cell_type": "code",
   "execution_count": null,
   "metadata": {},
   "outputs": [],
   "source": [
    "# create target path if doesnt exist\n",
    "import os\n",
    "if not os.path.exists(target_path):\n",
    "    os.makedirs(target_path)\n",
    "for i in range(10):\n",
    "    split = [c[i] for c in completions]\n",
    "    with open(f\"{target_path}/{i}.gen\", 'w') as f:\n",
    "        f.write(\"\\n\".join(split))"
   ]
  }
 ],
 "metadata": {
  "kernelspec": {
   "display_name": ".venv",
   "language": "python",
   "name": "python3"
  },
  "language_info": {
   "codemirror_mode": {
    "name": "ipython",
    "version": 3
   },
   "file_extension": ".py",
   "mimetype": "text/x-python",
   "name": "python",
   "nbconvert_exporter": "python",
   "pygments_lexer": "ipython3",
   "version": "3.8.10"
  }
 },
 "nbformat": 4,
 "nbformat_minor": 2
}
