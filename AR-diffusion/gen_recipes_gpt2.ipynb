{
 "cells": [
  {
   "cell_type": "code",
   "execution_count": null,
   "metadata": {},
   "outputs": [],
   "source": [
    "import re\n",
    "import json\n",
    "import os\n",
    "from tqdm import tqdm\n",
    "from transformers import AutoTokenizer, AutoModelForCausalLM\n",
    "from tqdm import tqdm\n",
    "os.environ[\"CUDA_VISIBLE_DEVICES\"] = \"1\"\n",
    "import torch\n",
    "from transformers import AutoTokenizer, AutoModelForCausalLM"
   ]
  },
  {
   "cell_type": "code",
   "execution_count": null,
   "metadata": {},
   "outputs": [],
   "source": [
    "from transformers import pipeline\n",
    "import scipy\n",
    "\n",
    "synthesiser = pipeline(\"text-to-audio\", \"facebook/musicgen-large\", device=1)"
   ]
  },
  {
   "cell_type": "code",
   "execution_count": null,
   "metadata": {},
   "outputs": [],
   "source": [
    "\n",
    "prompt = \"acapella castrati chorus\"\n",
    "music = synthesiser(prompt, forward_params={\"do_sample\": True})\n",
    "\n",
    "scipy.io.wavfile.write(f\"{prompt.replace(' ', '_')}.wav\", rate=music[\"sampling_rate\"], data=music[\"audio\"])"
   ]
  },
  {
   "cell_type": "code",
   "execution_count": null,
   "metadata": {},
   "outputs": [],
   "source": [
    "checkpoint = 100000\n",
    "dev_src = \"data/raw/recipes/dev_ar.src\"\n",
    "dev_tgt = \"data/raw/recipes/dev_ar.tgt\"\n",
    "run = \"gpt2_lr5e-05\"\n",
    "model_path = f\"my_output/recipes/{run}/model/checkpoint-{checkpoint}\"\n",
    "\n"
   ]
  },
  {
   "cell_type": "code",
   "execution_count": null,
   "metadata": {},
   "outputs": [],
   "source": [
    "def load_from_lines(path):\n",
    "    with open(path, 'r') as f:\n",
    "        return [line.strip() for line in f]\n",
    "dev = {\n",
    "    'src': load_from_lines(dev_src),\n",
    "    'tgt': load_from_lines(dev_tgt)\n",
    "}\n"
   ]
  },
  {
   "cell_type": "code",
   "execution_count": null,
   "metadata": {},
   "outputs": [],
   "source": [
    "\n",
    "\n",
    "tokenizer = AutoTokenizer.from_pretrained(\"openai-community/gpt2\")\n",
    "model = AutoModelForCausalLM.from_pretrained(model_path)"
   ]
  },
  {
   "cell_type": "code",
   "execution_count": null,
   "metadata": {},
   "outputs": [],
   "source": [
    "model.cuda()"
   ]
  },
  {
   "cell_type": "code",
   "execution_count": null,
   "metadata": {},
   "outputs": [],
   "source": [
    "sample = dev['src'][0]\n",
    "n_return = 10\n",
    "# tokenize input\n",
    "input_ids = tokenizer.encode(sample, return_tensors='pt')\n",
    "# generate text until the output length (which includes the context length) reaches 50\n",
    "outputs = model.generate(\n",
    "    input_ids.cuda(), \n",
    "    max_length=512+128,\n",
    "    do_sample=True,\n",
    "    top_k=50,\n",
    "    top_p=0.95,\n",
    "    num_return_sequences=n_return,\n",
    "    eos_token_id=tokenizer.eos_token_id\n",
    ")\n",
    "# take out the input_ids from the output and decode it\n",
    "for i in range(n_return):     \n",
    "    output = outputs[i, len(input_ids[0]):].tolist()\n",
    "    print(tokenizer.decode(output, skip_special_tokens=True))\n",
    "    print('-------------------')"
   ]
  }
 ],
 "metadata": {
  "kernelspec": {
   "display_name": ".venv",
   "language": "python",
   "name": "python3"
  },
  "language_info": {
   "codemirror_mode": {
    "name": "ipython",
    "version": 3
   },
   "file_extension": ".py",
   "mimetype": "text/x-python",
   "name": "python",
   "nbconvert_exporter": "python",
   "pygments_lexer": "ipython3",
   "version": "3.8.10"
  }
 },
 "nbformat": 4,
 "nbformat_minor": 2
}
