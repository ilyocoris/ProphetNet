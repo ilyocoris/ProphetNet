{
 "cells": [
  {
   "cell_type": "code",
   "execution_count": null,
   "metadata": {},
   "outputs": [],
   "source": [
    "import re\n",
    "import json\n",
    "import tqdm\n",
    "import random\n",
    "from datasets import load_dataset\n",
    "from transformers import AutoTokenizer\n",
    "random.seed(101)"
   ]
  },
  {
   "cell_type": "code",
   "execution_count": null,
   "metadata": {},
   "outputs": [],
   "source": [
    "# extract .zip file in recipes/raw/dataset.zip\n",
    "# !unzip -oq recipes.zip -d recipes"
   ]
  },
  {
   "cell_type": "code",
   "execution_count": null,
   "metadata": {},
   "outputs": [],
   "source": [
    "dataset = load_dataset(\"recipe_nlg\", data_dir=\"recipes/raw/dataset\")"
   ]
  },
  {
   "cell_type": "code",
   "execution_count": null,
   "metadata": {},
   "outputs": [],
   "source": [
    "tokenizer = AutoTokenizer.from_pretrained(\"bert-base-uncased\")"
   ]
  },
  {
   "cell_type": "code",
   "execution_count": null,
   "metadata": {},
   "outputs": [],
   "source": [
    "def mask_recipe_proportion(recipe, tokenizer, proportion):\n",
    "    tokens = tokenizer.tokenize(recipe)\n",
    "    len_recipe = len(tokens)\n",
    "    max_index = int(len_recipe * (1 - proportion))\n",
    "    mask_0 = random.randint(0, max_index)\n",
    "    mask_1 = mask_0 + int(len_recipe * proportion)\n",
    "    masking30_tgt = tokenizer.decode(tokenizer.convert_tokens_to_ids(tokens[mask_0:mask_1]) )\n",
    "    # substitute those tokens with [MASK]\n",
    "    masking30_src = tokenizer.decode(tokenizer.convert_tokens_to_ids(tokens[:mask_0])) + \" [MASK] \" + tokenizer.decode(tokenizer.convert_tokens_to_ids(tokens[mask_1:]))\n",
    "    mask = {\n",
    "        \"src_len\":len_recipe,\n",
    "        \"tgt_len\":len(tokenizer.tokenize(masking30_tgt)),\n",
    "        \"src\":masking30_src,\n",
    "        \"tgt\":masking30_tgt\n",
    "    }\n",
    "    return mask\n",
    "\n",
    "def is_mask_valid(mask):\n",
    "    return mask[\"src_len\"] < 512 and mask[\"tgt_len\"] < 128\n"
   ]
  },
  {
   "cell_type": "code",
   "execution_count": null,
   "metadata": {},
   "outputs": [],
   "source": [
    "failed = 0\n",
    "masked_recipes = []\n",
    "for sample in tqdm.tqdm(dataset[\"train\"],desc=f\"Failed {failed}\", total=len(dataset[\"train\"])):\n",
    "    recipe = sample[\"title\"] + \" Ingredients: \" + \" \".join(sample[\"ingredients\"]) + \" Directions: -\" + \" -\".join(sample[\"directions\"])\n",
    "    # MASKING: 90% of directions, 10% of ingredients\n",
    "    if random.random()>0.85:\n",
    "        # mask ingredients\n",
    "        src = sample[\"title\"] + \" Ingredients: \" + \" [MASK] \" + \" Directions: -\" + \" -\".join(sample[\"directions\"])\n",
    "        tgt = \" \".join(sample[\"ingredients\"])\n",
    "        mask_human = {\n",
    "            \"src\":src,\n",
    "            \"tgt\":tgt,\n",
    "            \"src_len\":len(tokenizer.tokenize(src)),\n",
    "            \"tgt_len\":len(tokenizer.tokenize(tgt))\n",
    "        }\n",
    "    else:\n",
    "        # sample to mask from 1 to len(directions)-2\n",
    "        if len(sample[\"directions\"]) > 2:\n",
    "            num_directions_to_mask = random.randint(1, len(sample[\"directions\"])-2)\n",
    "            mask_0 = random.randint(0, len(sample[\"directions\"])-num_directions_to_mask)\n",
    "            mask_1 = mask_0 + num_directions_to_mask\n",
    "            src_masked_directions = sample[\"directions\"][:mask_0] + [\"[MASK]\"] + sample[\"directions\"][mask_1:]\n",
    "            tgt = \" -\".join(sample[\"directions\"][mask_0:mask_1])\n",
    "            src = sample[\"title\"] + \" Ingredients: \" + \" \".join(sample[\"ingredients\"]) + \" Directions: -\" + \" -\".join(src_masked_directions)\n",
    "            mask_human = {\n",
    "                \"src\":src,\n",
    "                \"tgt\":tgt,\n",
    "                \"src_len\":len(tokenizer.tokenize(src)),\n",
    "                \"tgt_len\":len(tokenizer.tokenize(tgt))\n",
    "            }\n",
    "\n",
    "    mask_30 = mask_recipe_proportion(recipe, tokenizer, 0.3)\n",
    "    if mask_human and is_mask_valid(mask_human) and mask_30 and is_mask_valid(mask_30):\n",
    "        masked_recipes.append({\n",
    "            \"id\":sample[\"id\"],\n",
    "            \"mask_30\":mask_30,\n",
    "            \"mask_human\":mask_human\n",
    "        })\n",
    "    else:\n",
    "        failed += 1"
   ]
  },
  {
   "cell_type": "code",
   "execution_count": null,
   "metadata": {},
   "outputs": [],
   "source": [
    "failed"
   ]
  },
  {
   "cell_type": "code",
   "execution_count": null,
   "metadata": {},
   "outputs": [],
   "source": [
    "len(masked_recipes)"
   ]
  },
  {
   "cell_type": "code",
   "execution_count": null,
   "metadata": {},
   "outputs": [],
   "source": [
    "# save masked_recipes as json\n",
    "with open(\"recipes/raw/masked_recipes.json\", \"w\") as f:\n",
    "    json.dump(masked_recipes, f)"
   ]
  },
  {
   "cell_type": "code",
   "execution_count": null,
   "metadata": {},
   "outputs": [],
   "source": [
    "# load masked_recipes from json\n",
    "with open(\"recipes/raw/masked_recipes.json\", \"r\") as f:\n",
    "    masked_recipes = json.load(f)"
   ]
  },
  {
   "cell_type": "code",
   "execution_count": 14,
   "metadata": {},
   "outputs": [],
   "source": [
    "# generate the train.src, train.tgt, valid.src, valid.tgt, test.src, test.tgt\n",
    "# set seed\n",
    "random.seed(101)\n",
    "# split dataset into train, valid, test\n",
    "random.shuffle(masked_recipes)\n",
    "train = masked_recipes[:int(len(masked_recipes)*0.8)]\n",
    "valid = masked_recipes[int(len(masked_recipes)*0.8):int(len(masked_recipes)*0.95)]\n",
    "test = masked_recipes[int(len(masked_recipes)*0.95):]\n",
    "\n",
    "for split, recipes in zip([\"train\", \"dev\", \"test-all\"], [train, valid, test]):\n",
    "    for folder in [\"mask_30\"]: #,\"mask_human\"\n",
    "        # recipes/folder/split.\n",
    "        with open(f\"recipes/{folder}/org_data/{split}.src\", \"w\", encoding=\"utf-8\") as f:\n",
    "            f.write(\"\\n\".join([re.sub(\"\\\\n|\\\\r\",\"\",recipe[folder][\"src\"]) for recipe in recipes]))\n",
    "        with open(f\"recipes/{folder}/org_data/{split}.tgt\", \"w\", encoding=\"utf-8\") as f:\n",
    "            f.write(\"\\n\".join([re.sub(\"\\\\n|\\\\r\",\"\",recipe[folder][\"tgt\"]) for recipe in recipes]))\n"
   ]
  },
  {
   "cell_type": "code",
   "execution_count": null,
   "metadata": {},
   "outputs": [],
   "source": [
    "len(masked_recipes)"
   ]
  },
  {
   "cell_type": "code",
   "execution_count": null,
   "metadata": {},
   "outputs": [],
   "source": [
    "# count number of line sin each file in recipes/mask_human/org_data\n",
    "!wc -l recipes/mask_human/org_data/train.src"
   ]
  },
  {
   "cell_type": "code",
   "execution_count": null,
   "metadata": {},
   "outputs": [],
   "source": [
    "!wc -l recipes/mask_human/org_data/train.tgt"
   ]
  },
  {
   "cell_type": "code",
   "execution_count": 15,
   "metadata": {},
   "outputs": [
    {
     "name": "stdout",
     "output_type": "stream",
     "text": [
      "src: harissa lamb and quinoa burgers ingredients : 400 g ground lamb 1 cup quinoa, cooked 1 tablespoon harissa, plus extra for speading 1 garlic clove, crushed salt pepper 1 tablespoon olive oil 6 bread rolls, halved and toasted 1 cup tzatziki 3 cups salad leaves directions : - put mince, quinoa harissa, garlic, salt and pepper in [MASK] the tzatziki and extra harissa. top with green leaves and patties to serve.\n",
      "\n",
      "tgt: a bowl and mix well to combine. - shape the lamb into 6 patties. - heat oil in a large frying pan over medium heat. cook patties 4 - 5mins each side. - spread the rolls with\n",
      "\n",
      "\n",
      "src: ez asian chicken or turkey stir fry ingredients : 2 lbs fresh turkey breast, slices ( 1 louis rich pkg. ) 1 bunch bok choy ( 1 lb. ) 8 ounces sliced water chestnuts 1 cup fresh mushrooms ( 2 oz. ) 3 green onions 1 tablespoon oil 1 cup chicken broth 14 cup soy sauce ( i used the low - sodium soy sauce ) 2 tablespoons dry sherry 2 tablespoons cornstarch 14 teaspoon garlic powder 14 teaspoon ground ginger directions : - cut chicken or turkey into 1 / 4 - inch strips. - slice bok choy, mushrooms and [MASK] . - add turkey. - heat 2 - 3 minutes more stirring constantly until thickened. - serve over rice or chow mein noodles. - 6 servings.\n",
      "\n",
      "tgt: onions. - heat oil in wok or dutch oven on medium - high for 2 - 3 minutes. - add turkey. - stir fry 3 - 5 minutes until turkey turns white and begins to brown ; remove to plate. - add vegetables to wok. - stir fry 4 - 5 minutes. - combine sauce ingredients. - pour over vegetables\n",
      "\n",
      "\n",
      "src: be [MASK] ##meg, and toss in the bay leaf. - heat over medium - low heat until bubbles form around the edge. - remove and keep hot. - melt the butter in a separate medium saucepan over medium heat. - when it starts to foam, dump in the flour and whisk until smooth. - continue cooking, whisking constantly, until the flour mixture changes color, 3 to 4 minutes. - pour the seasoned hot milk into the flour mixture in a steady stream, whisking constantly. - cook the sauce, whisking constantly and paying special attention to the bottom and corners of the pan, until the sauce comes to the simmer. - adjust the heat to a slow boil and cook, whisking constantly, until the sauce is thickened, about 3 minutes. - remove from the heat and whisk in the grated cheese. - strain the sauce through a fine sieve and into a clean bowl. - the sauce will keep at room temperature for up to a few hours.\n",
      "\n",
      "tgt: ##chamel sauce ingredients : 1 quart milk salt freshly ground pepper ( preferably white ) two large pinches nutmeg, preferably freshly grated 1 bay leaf 3 tablespoons unsalted butter 1 / 4 cup all - purpose flour 1 / 3 cup freshly grated parmigiano - reggiano cheese directions : - pour the milk into a medium saucepan, season lightly with salt and pepper, add the nut\n",
      "\n",
      "\n",
      "src: homemade condensed milk ingredients : 1 cup boiling water 1 / 4 cup margarine 2 cups white sugar 4 cups nonfat [MASK] dry milk powder 1 cup at a time, blending after each addition. store in refrigerator and use where a recipe calls for sweetened condensed milk, 1 1 / 3 cups equals one 14 ounce can.\n",
      "\n",
      "tgt: dry milk powder directions : - pour boiling water into blender container. add margarine and sugar. blend until combined. add the\n",
      "\n",
      "\n",
      "src: super sunrise juice ingredients : [MASK] ##berries, topped 1 bunch red grapes ( white work fine as well ) directions : - juice together all ingredients and serve.\n",
      "\n",
      "tgt: 14 pineapple, skinned 12 orange, peeled 4 large straw\n",
      "\n",
      "\n"
     ]
    }
   ],
   "source": [
    "# print first 5 lines from recipes/mask_human/org_data/{split}.src and recipes/mask_human/org_data/{split}.tgt\n",
    "split = 'test-all'\n",
    "with open(f'recipes/mask_30/org_data/{split}.src', 'r') as f:\n",
    "    src_lines = f.readlines()\n",
    "with open(f'recipes/mask_30/org_data/{split}.tgt', 'r') as f:\n",
    "    tgt_lines = f.readlines()\n",
    "for i in range(5):\n",
    "    print(f'src: {src_lines[i]}')\n",
    "    print(f'tgt: {tgt_lines[i]}')\n",
    "    print()"
   ]
  },
  {
   "cell_type": "code",
   "execution_count": null,
   "metadata": {},
   "outputs": [],
   "source": [
    "for split in [\"train\", \"dev\", \"test\"]: \n",
    "    src = []\n",
    "    train_src_path = f\"recipes/mask_human/org_data/{split}.src\"\n",
    "    with open(train_src_path, \"r\", encoding=\"utf-8\") as ifile:\n",
    "        for line in tqdm.tqdm(ifile):\n",
    "            line = line.strip()\n",
    "            text = line\n",
    "            src.append(text)\n",
    "    src[69696:69700]\n",
    "    src = []\n",
    "    train_src_path = f\"recipes/mask_human/org_data/{split}.tgt\"\n",
    "    with open(train_src_path, \"r\", encoding=\"utf-8\") as ifile:\n",
    "        for line in tqdm.tqdm(ifile):\n",
    "            line = line.strip()\n",
    "            text = line\n",
    "            if not text:\n",
    "                continue\n",
    "            src.append(text)\n",
    "src[69696:69700]"
   ]
  },
  {
   "cell_type": "code",
   "execution_count": 16,
   "metadata": {},
   "outputs": [],
   "source": [
    "# # reac from recipes/mask_human/org_data/test-all.src and .tgt, and save a new test.src, test.tgt with only the top 10 lines\n",
    "# with open(\"recipes/mask_human/org_data/test-all.src\", \"r\") as f:\n",
    "#     src_lines = f.readlines()\n",
    "# with open(\"recipes/mask_human/org_data/test-all.tgt\", \"r\") as f:\n",
    "#     tgt_lines = f.readlines()\n",
    "with open(\"recipes/mask_30/org_data/test.src\", \"w\") as f:\n",
    "    f.write(\"\".join(src_lines[100:200]))\n",
    "with open(\"recipes/mask_30/org_data/test.tgt\", \"w\") as f:\n",
    "    f.write(\"\".join(tgt_lines[100:200]))"
   ]
  }
 ],
 "metadata": {
  "kernelspec": {
   "display_name": "gcilleru-npm",
   "language": "python",
   "name": "python3"
  },
  "language_info": {
   "codemirror_mode": {
    "name": "ipython",
    "version": 3
   },
   "file_extension": ".py",
   "mimetype": "text/x-python",
   "name": "python",
   "nbconvert_exporter": "python",
   "pygments_lexer": "ipython3",
   "version": "3.8.10"
  }
 },
 "nbformat": 4,
 "nbformat_minor": 2
}
