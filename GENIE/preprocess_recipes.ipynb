{
 "cells": [
  {
   "cell_type": "code",
   "execution_count": null,
   "metadata": {},
   "outputs": [],
   "source": [
    "import re\n",
    "import json\n",
    "import tqdm\n",
    "import random\n",
    "from datasets import load_dataset\n",
    "from transformers import AutoTokenizer\n",
    "random.seed(101)"
   ]
  },
  {
   "cell_type": "code",
   "execution_count": null,
   "metadata": {},
   "outputs": [],
   "source": [
    "# extract .zip file in recipes/raw/dataset.zip\n",
    "# !unzip -oq recipes/raw/dataset.zip -d recipes/raw/"
   ]
  },
  {
   "cell_type": "code",
   "execution_count": null,
   "metadata": {},
   "outputs": [],
   "source": [
    "dataset = load_dataset(\"recipe_nlg\", data_dir=\"recipes/raw/dataset\")"
   ]
  },
  {
   "cell_type": "code",
   "execution_count": null,
   "metadata": {},
   "outputs": [],
   "source": [
    "tokenizer = AutoTokenizer.from_pretrained(\"bert-base-uncased\")"
   ]
  },
  {
   "cell_type": "code",
   "execution_count": null,
   "metadata": {},
   "outputs": [],
   "source": [
    "def mask_recipe_proportion(recipe, tokenizer, proportion):\n",
    "    tokens = tokenizer.tokenize(recipe)\n",
    "    len_recipe = len(tokens)\n",
    "    max_index = int(len_recipe * (1 - proportion))\n",
    "    mask_0 = random.randint(0, max_index)\n",
    "    mask_1 = mask_0 + int(len_recipe * proportion)\n",
    "    masking30_tgt = tokenizer.decode(tokenizer.convert_tokens_to_ids(tokens[mask_0:mask_1]) )\n",
    "    # substitute those tokens with [MASK]\n",
    "    masking30_src = tokenizer.decode(tokenizer.convert_tokens_to_ids(tokens[:mask_0])) + \" [MASK] \" + tokenizer.decode(tokenizer.convert_tokens_to_ids(tokens[mask_1:]))\n",
    "    mask = {\n",
    "        \"src_len\":len_recipe,\n",
    "        \"tgt_len\":len(tokenizer.tokenize(masking30_tgt)),\n",
    "        \"src\":masking30_src,\n",
    "        \"tgt\":masking30_tgt\n",
    "    }\n",
    "    return mask\n",
    "\n",
    "def is_mask_valid(mask):\n",
    "    return mask[\"src_len\"] < 512 and mask[\"tgt_len\"] < 128\n"
   ]
  },
  {
   "cell_type": "code",
   "execution_count": null,
   "metadata": {},
   "outputs": [],
   "source": [
    "failed = 0\n",
    "masked_recipes = []\n",
    "for sample in tqdm.tqdm(dataset[\"train\"],desc=f\"Failed {failed}\", total=len(dataset[\"train\"])):\n",
    "    recipe = sample[\"title\"] + \" Ingredients: \" + \" \".join(sample[\"ingredients\"]) + \" Directions: -\" + \" -\".join(sample[\"directions\"])\n",
    "    # MASKING: 90% of directions, 10% of ingredients\n",
    "    if random.random()>0.85:\n",
    "        # mask ingredients\n",
    "        src = sample[\"title\"] + \" Ingredients: \" + \" [MASK] \" + \" Directions: -\" + \" -\".join(sample[\"directions\"])\n",
    "        tgt = \" \".join(sample[\"ingredients\"])\n",
    "        mask_human = {\n",
    "            \"src\":src,\n",
    "            \"tgt\":tgt,\n",
    "            \"src_len\":len(tokenizer.tokenize(src)),\n",
    "            \"tgt_len\":len(tokenizer.tokenize(tgt))\n",
    "        }\n",
    "    else:\n",
    "        # sample to mask from 1 to len(directions)-2\n",
    "        if len(sample[\"directions\"]) > 2:\n",
    "            num_directions_to_mask = random.randint(1, len(sample[\"directions\"])-2)\n",
    "            mask_0 = random.randint(0, len(sample[\"directions\"])-num_directions_to_mask)\n",
    "            mask_1 = mask_0 + num_directions_to_mask\n",
    "            src_masked_directions = sample[\"directions\"][:mask_0] + [\"[MASK]\"] + sample[\"directions\"][mask_1:]\n",
    "            tgt = \" -\".join(sample[\"directions\"][mask_0:mask_1])\n",
    "            src = sample[\"title\"] + \" Ingredients: \" + \" \".join(sample[\"ingredients\"]) + \" Directions: -\" + \" -\".join(src_masked_directions)\n",
    "            mask_human = {\n",
    "                \"src\":src,\n",
    "                \"tgt\":tgt,\n",
    "                \"src_len\":len(tokenizer.tokenize(src)),\n",
    "                \"tgt_len\":len(tokenizer.tokenize(tgt))\n",
    "            }\n",
    "\n",
    "    mask_30 = mask_recipe_proportion(recipe, tokenizer, 0.3)\n",
    "    if mask_human and is_mask_valid(mask_human) and mask_30 and is_mask_valid(mask_30):\n",
    "        masked_recipes.append({\n",
    "            \"id\":sample[\"id\"],\n",
    "            \"mask_30\":mask_30,\n",
    "            \"mask_human\":mask_human\n",
    "        })\n",
    "    else:\n",
    "        failed += 1"
   ]
  },
  {
   "cell_type": "code",
   "execution_count": null,
   "metadata": {},
   "outputs": [],
   "source": [
    "failed"
   ]
  },
  {
   "cell_type": "code",
   "execution_count": null,
   "metadata": {},
   "outputs": [],
   "source": [
    "len(masked_recipes)"
   ]
  },
  {
   "cell_type": "code",
   "execution_count": null,
   "metadata": {},
   "outputs": [],
   "source": [
    "# save masked_recipes as json\n",
    "with open(\"recipes/raw/masked_recipes.json\", \"w\") as f:\n",
    "    json.dump(masked_recipes, f)"
   ]
  },
  {
   "cell_type": "code",
   "execution_count": null,
   "metadata": {},
   "outputs": [],
   "source": [
    "# load masked_recipes from json\n",
    "with open(\"recipes/raw/masked_recipes.json\", \"r\") as f:\n",
    "    masked_recipes = json.load(f)"
   ]
  },
  {
   "cell_type": "code",
   "execution_count": null,
   "metadata": {},
   "outputs": [],
   "source": [
    "masked_recipes[0]"
   ]
  },
  {
   "cell_type": "code",
   "execution_count": null,
   "metadata": {},
   "outputs": [],
   "source": [
    "# generate the train.src, train.tgt, valid.src, valid.tgt, test.src, test.tgt\n",
    "# set seed\n",
    "random.seed(101)\n",
    "# split dataset into train, valid, test\n",
    "random.shuffle(masked_recipes)\n",
    "train = masked_recipes[:int(len(masked_recipes)*0.8)]\n",
    "valid = masked_recipes[int(len(masked_recipes)*0.8):int(len(masked_recipes)*0.95)]\n",
    "test = masked_recipes[int(len(masked_recipes)*0.95):]\n",
    "\n",
    "for split, recipes in zip([\"train\", \"dev\", \"test\"], [train, valid, test]):\n",
    "    for folder in [\"mask_30\", \"mask_human\"]:\n",
    "        # recipes/folder/split.\n",
    "        with open(f\"recipes/{folder}/org_data/{split}.src\", \"w\") as f:\n",
    "            f.write(\"\\n\".join([re.sub(\"\\n\",\"\",recipe[folder][\"src\"]) for recipe in recipes]))\n",
    "        with open(f\"recipes/{folder}/org_data/{split}.tgt\", \"w\") as f:\n",
    "            f.write(\"\\n\".join([re.sub(\"\\n\",\"\",recipe[folder][\"src\"]) for recipe in recipes]))\n"
   ]
  },
  {
   "cell_type": "code",
   "execution_count": null,
   "metadata": {},
   "outputs": [],
   "source": [
    "len(\"\\n\".join([re.sub(\"\\n\",\"\",recipe[folder][\"src\"]) for recipe in train]).split(\"\\n\"))"
   ]
  },
  {
   "cell_type": "code",
   "execution_count": null,
   "metadata": {},
   "outputs": [],
   "source": [
    "len([re.sub(\"\\n\",\"\",recipe[folder][\"src\"]) for recipe in train])"
   ]
  },
  {
   "cell_type": "code",
   "execution_count": null,
   "metadata": {},
   "outputs": [],
   "source": [
    "len([recipe[\"mask_human\"][\"tgt\"] for recipe in train])"
   ]
  },
  {
   "cell_type": "code",
   "execution_count": null,
   "metadata": {},
   "outputs": [],
   "source": [
    "# count number of line sin each file in recipes/mask_human/org_data\n",
    "!wc -l recipes/mask_human/org_data/dev.src"
   ]
  },
  {
   "cell_type": "code",
   "execution_count": null,
   "metadata": {},
   "outputs": [],
   "source": [
    "!wc -l recipes/mask_human/org_data/dev.tgt"
   ]
  },
  {
   "cell_type": "code",
   "execution_count": null,
   "metadata": {},
   "outputs": [],
   "source": [
    "print(masking30_src)"
   ]
  },
  {
   "cell_type": "code",
   "execution_count": null,
   "metadata": {},
   "outputs": [],
   "source": [
    "print(masking30_tgt)"
   ]
  },
  {
   "cell_type": "code",
   "execution_count": null,
   "metadata": {},
   "outputs": [],
   "source": [
    "masking30_tgt"
   ]
  },
  {
   "cell_type": "code",
   "execution_count": null,
   "metadata": {},
   "outputs": [],
   "source": [
    "masking30_tgt"
   ]
  },
  {
   "cell_type": "code",
   "execution_count": null,
   "metadata": {},
   "outputs": [],
   "source": []
  }
 ],
 "metadata": {
  "kernelspec": {
   "display_name": "gcilleru-npm",
   "language": "python",
   "name": "python3"
  },
  "language_info": {
   "codemirror_mode": {
    "name": "ipython",
    "version": 3
   },
   "file_extension": ".py",
   "mimetype": "text/x-python",
   "name": "python",
   "nbconvert_exporter": "python",
   "pygments_lexer": "ipython3",
   "version": "3.8.10"
  }
 },
 "nbformat": 4,
 "nbformat_minor": 2
}
