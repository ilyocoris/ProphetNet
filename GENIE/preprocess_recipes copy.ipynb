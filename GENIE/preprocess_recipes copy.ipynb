{
 "cells": [
  {
   "cell_type": "code",
   "execution_count": null,
   "metadata": {},
   "outputs": [
    {
     "name": "stderr",
     "output_type": "stream",
     "text": [
      "/home/gcilleru/ProphetNet/GENIE/.venv/lib/python3.8/site-packages/tqdm/auto.py:21: TqdmWarning: IProgress not found. Please update jupyter and ipywidgets. See https://ipywidgets.readthedocs.io/en/stable/user_install.html\n",
      "  from .autonotebook import tqdm as notebook_tqdm\n"
     ]
    }
   ],
   "source": [
    "import re\n",
    "import json\n",
    "import tqdm\n",
    "import random\n",
    "from datasets import load_dataset\n",
    "from transformers import AutoTokenizer\n",
    "random.seed(101)"
   ]
  },
  {
   "cell_type": "code",
   "execution_count": null,
   "metadata": {},
   "outputs": [],
   "source": [
    "# extract .zip file in recipes/raw/dataset.zip\n",
    "# !unzip -oq recipes.zip -d recipes"
   ]
  },
  {
   "cell_type": "code",
   "execution_count": 2,
   "metadata": {},
   "outputs": [
    {
     "name": "stderr",
     "output_type": "stream",
     "text": [
      "Generating train split: 100%|██████████| 2231142/2231142 [06:00<00:00, 6191.54 examples/s]\n",
      "/home/gcilleru/ProphetNet/GENIE/.venv/lib/python3.8/site-packages/datasets/table.py:1421: FutureWarning: promote has been superseded by mode='default'.\n",
      "  table = cls._concat_blocks(blocks, axis=0)\n"
     ]
    }
   ],
   "source": [
    "dataset = load_dataset(\"recipe_nlg\", data_dir=\"recipes/raw/dataset\")"
   ]
  },
  {
   "cell_type": "code",
   "execution_count": 3,
   "metadata": {},
   "outputs": [],
   "source": [
    "tokenizer = AutoTokenizer.from_pretrained(\"bert-base-uncased\")"
   ]
  },
  {
   "cell_type": "code",
   "execution_count": 4,
   "metadata": {},
   "outputs": [],
   "source": [
    "def mask_recipe_proportion(recipe, tokenizer, proportion):\n",
    "    tokens = tokenizer.tokenize(recipe)\n",
    "    len_recipe = len(tokens)\n",
    "    max_index = int(len_recipe * (1 - proportion))\n",
    "    mask_0 = random.randint(0, max_index)\n",
    "    mask_1 = mask_0 + int(len_recipe * proportion)\n",
    "    masking30_tgt = tokenizer.decode(tokenizer.convert_tokens_to_ids(tokens[mask_0:mask_1]) )\n",
    "    # substitute those tokens with [MASK]\n",
    "    masking30_src = tokenizer.decode(tokenizer.convert_tokens_to_ids(tokens[:mask_0])) + \" [MASK] \" + tokenizer.decode(tokenizer.convert_tokens_to_ids(tokens[mask_1:]))\n",
    "    mask = {\n",
    "        \"src_len\":len_recipe,\n",
    "        \"tgt_len\":len(tokenizer.tokenize(masking30_tgt)),\n",
    "        \"src\":masking30_src,\n",
    "        \"tgt\":masking30_tgt\n",
    "    }\n",
    "    return mask\n",
    "\n",
    "def is_mask_valid(mask):\n",
    "    return mask[\"src_len\"] < 512 and mask[\"tgt_len\"] < 128\n"
   ]
  },
  {
   "cell_type": "code",
   "execution_count": 5,
   "metadata": {},
   "outputs": [
    {
     "name": "stderr",
     "output_type": "stream",
     "text": [
      "Failed 0:   1%|          | 27238/2231142 [00:30<40:51, 899.14it/s]Token indices sequence length is longer than the specified maximum sequence length for this model (2138 > 512). Running this sequence through the model will result in indexing errors\n",
      "Failed 0: 100%|██████████| 2231142/2231142 [1:19:29<00:00, 467.84it/s]\n"
     ]
    }
   ],
   "source": [
    "failed = 0\n",
    "masked_recipes = []\n",
    "for sample in tqdm.tqdm(dataset[\"train\"],desc=f\"Failed {failed}\", total=len(dataset[\"train\"])):\n",
    "    recipe = sample[\"title\"] + \" Ingredients: \" + \" \".join(sample[\"ingredients\"]) + \" Directions: -\" + \" -\".join(sample[\"directions\"])\n",
    "    # MASKING: 90% of directions, 10% of ingredients\n",
    "    if random.random()>0.85:\n",
    "        # mask ingredients\n",
    "        src = sample[\"title\"] + \" Ingredients: \" + \" [MASK] \" + \" Directions: -\" + \" -\".join(sample[\"directions\"])\n",
    "        tgt = \" \".join(sample[\"ingredients\"])\n",
    "        mask_human = {\n",
    "            \"src\":src,\n",
    "            \"tgt\":tgt,\n",
    "            \"src_len\":len(tokenizer.tokenize(src)),\n",
    "            \"tgt_len\":len(tokenizer.tokenize(tgt))\n",
    "        }\n",
    "    else:\n",
    "        # sample to mask from 1 to len(directions)-2\n",
    "        if len(sample[\"directions\"]) > 2:\n",
    "            num_directions_to_mask = random.randint(1, len(sample[\"directions\"])-2)\n",
    "            mask_0 = random.randint(0, len(sample[\"directions\"])-num_directions_to_mask)\n",
    "            mask_1 = mask_0 + num_directions_to_mask\n",
    "            src_masked_directions = sample[\"directions\"][:mask_0] + [\"[MASK]\"] + sample[\"directions\"][mask_1:]\n",
    "            tgt = \" -\".join(sample[\"directions\"][mask_0:mask_1])\n",
    "            src = sample[\"title\"] + \" Ingredients: \" + \" \".join(sample[\"ingredients\"]) + \" Directions: -\" + \" -\".join(src_masked_directions)\n",
    "            mask_human = {\n",
    "                \"src\":src,\n",
    "                \"tgt\":tgt,\n",
    "                \"src_len\":len(tokenizer.tokenize(src)),\n",
    "                \"tgt_len\":len(tokenizer.tokenize(tgt))\n",
    "            }\n",
    "\n",
    "    mask_30 = mask_recipe_proportion(recipe, tokenizer, 0.3)\n",
    "    if mask_human and is_mask_valid(mask_human) and mask_30 and is_mask_valid(mask_30):\n",
    "        masked_recipes.append({\n",
    "            \"id\":sample[\"id\"],\n",
    "            \"mask_30\":mask_30,\n",
    "            \"mask_human\":mask_human\n",
    "        })\n",
    "    else:\n",
    "        failed += 1"
   ]
  },
  {
   "cell_type": "code",
   "execution_count": null,
   "metadata": {},
   "outputs": [],
   "source": [
    "failed"
   ]
  },
  {
   "cell_type": "code",
   "execution_count": null,
   "metadata": {},
   "outputs": [],
   "source": [
    "len(masked_recipes)"
   ]
  },
  {
   "cell_type": "code",
   "execution_count": 6,
   "metadata": {},
   "outputs": [],
   "source": [
    "# save masked_recipes as json\n",
    "with open(\"recipes/raw/masked_recipes.json\", \"w\") as f:\n",
    "    json.dump(masked_recipes, f)"
   ]
  },
  {
   "cell_type": "code",
   "execution_count": 6,
   "metadata": {},
   "outputs": [
    {
     "ename": "NameError",
     "evalue": "name 'json' is not defined",
     "output_type": "error",
     "traceback": [
      "\u001b[0;31m---------------------------------------------------------------------------\u001b[0m",
      "\u001b[0;31mNameError\u001b[0m                                 Traceback (most recent call last)",
      "\u001b[1;32m/home/gcilleru/ProphetNet/GENIE/preprocess_recipes copy.ipynb Cell 10\u001b[0m line \u001b[0;36m3\n\u001b[1;32m      <a href='vscode-notebook-cell://ssh-remote%2Bhrist/home/gcilleru/ProphetNet/GENIE/preprocess_recipes%20copy.ipynb#X12sdnNjb2RlLXJlbW90ZQ%3D%3D?line=0'>1</a>\u001b[0m \u001b[39m# load masked_recipes from json\u001b[39;00m\n\u001b[1;32m      <a href='vscode-notebook-cell://ssh-remote%2Bhrist/home/gcilleru/ProphetNet/GENIE/preprocess_recipes%20copy.ipynb#X12sdnNjb2RlLXJlbW90ZQ%3D%3D?line=1'>2</a>\u001b[0m \u001b[39mwith\u001b[39;00m \u001b[39mopen\u001b[39m(\u001b[39m\"\u001b[39m\u001b[39mrecipes/raw/masked_recipes.json\u001b[39m\u001b[39m\"\u001b[39m, \u001b[39m\"\u001b[39m\u001b[39mr\u001b[39m\u001b[39m\"\u001b[39m) \u001b[39mas\u001b[39;00m f:\n\u001b[0;32m----> <a href='vscode-notebook-cell://ssh-remote%2Bhrist/home/gcilleru/ProphetNet/GENIE/preprocess_recipes%20copy.ipynb#X12sdnNjb2RlLXJlbW90ZQ%3D%3D?line=2'>3</a>\u001b[0m     masked_recipes \u001b[39m=\u001b[39m json\u001b[39m.\u001b[39mload(f)\n",
      "\u001b[0;31mNameError\u001b[0m: name 'json' is not defined"
     ]
    }
   ],
   "source": [
    "# load masked_recipes from json\n",
    "with open(\"recipes/raw/masked_recipes.json\", \"r\") as f:\n",
    "    masked_recipes = json.load(f)"
   ]
  },
  {
   "cell_type": "code",
   "execution_count": null,
   "metadata": {},
   "outputs": [],
   "source": [
    "masked_recipes[0]"
   ]
  },
  {
   "cell_type": "code",
   "execution_count": 7,
   "metadata": {},
   "outputs": [],
   "source": [
    "# generate the train.src, train.tgt, valid.src, valid.tgt, test.src, test.tgt\n",
    "# set seed\n",
    "random.seed(101)\n",
    "# split dataset into train, valid, test\n",
    "random.shuffle(masked_recipes)\n",
    "train = masked_recipes[:int(len(masked_recipes)*0.8)]\n",
    "valid = masked_recipes[int(len(masked_recipes)*0.8):int(len(masked_recipes)*0.95)]\n",
    "test = masked_recipes[int(len(masked_recipes)*0.95):]\n",
    "\n",
    "for split, recipes in zip([\"train\", \"dev\", \"test\"], [train, valid, test]):\n",
    "    for folder in [\"mask_30\", \"mask_human\"]:\n",
    "        # recipes/folder/split.\n",
    "        with open(f\"recipes/{folder}/org_data/{split}.src\", \"w\") as f:\n",
    "            f.write(\"\\n\".join([re.sub(\"\\n\",\"\",recipe[folder][\"src\"]) for recipe in recipes]))\n",
    "        with open(f\"recipes/{folder}/org_data/{split}.tgt\", \"w\") as f:\n",
    "            f.write(\"\\n\".join([re.sub(\"\\n\",\"\",recipe[folder][\"tgt\"]) for recipe in recipes]))\n"
   ]
  },
  {
   "cell_type": "code",
   "execution_count": 5,
   "metadata": {},
   "outputs": [
    {
     "ename": "NameError",
     "evalue": "name 'train' is not defined",
     "output_type": "error",
     "traceback": [
      "\u001b[0;31m---------------------------------------------------------------------------\u001b[0m",
      "\u001b[0;31mNameError\u001b[0m                                 Traceback (most recent call last)",
      "\u001b[1;32m/home/gcilleru/ProphetNet/GENIE/preprocess_recipes copy.ipynb Cell 13\u001b[0m line \u001b[0;36m1\n\u001b[0;32m----> <a href='vscode-notebook-cell://ssh-remote%2Bhrist/home/gcilleru/ProphetNet/GENIE/preprocess_recipes%20copy.ipynb#X15sdnNjb2RlLXJlbW90ZQ%3D%3D?line=0'>1</a>\u001b[0m \u001b[39mlen\u001b[39m(\u001b[39m\"\u001b[39m\u001b[39m\\n\u001b[39;00m\u001b[39m\"\u001b[39m\u001b[39m.\u001b[39mjoin([re\u001b[39m.\u001b[39msub(\u001b[39m\"\u001b[39m\u001b[39m\\n\u001b[39;00m\u001b[39m\"\u001b[39m,\u001b[39m\"\u001b[39m\u001b[39m\"\u001b[39m,recipe[folder][\u001b[39m\"\u001b[39m\u001b[39msrc\u001b[39m\u001b[39m\"\u001b[39m]) \u001b[39mfor\u001b[39;00m recipe \u001b[39min\u001b[39;00m train])\u001b[39m.\u001b[39msplit(\u001b[39m\"\u001b[39m\u001b[39m\\n\u001b[39;00m\u001b[39m\"\u001b[39m))\n",
      "\u001b[0;31mNameError\u001b[0m: name 'train' is not defined"
     ]
    }
   ],
   "source": [
    "len(\"\\n\".join([re.sub(\"\\n\",\"\",recipe[folder][\"src\"]) for recipe in train]).split(\"\\n\"))"
   ]
  },
  {
   "cell_type": "code",
   "execution_count": null,
   "metadata": {},
   "outputs": [],
   "source": [
    "len([re.sub(\"\\n\",\"\",recipe[folder][\"src\"]) for recipe in train])"
   ]
  },
  {
   "cell_type": "code",
   "execution_count": null,
   "metadata": {},
   "outputs": [],
   "source": [
    "len([recipe[\"mask_human\"][\"tgt\"] for recipe in train])"
   ]
  },
  {
   "cell_type": "code",
   "execution_count": 4,
   "metadata": {},
   "outputs": [
    {
     "name": "stdout",
     "output_type": "stream",
     "text": [
      "1576900 recipes/mask_human/org_data/train.src\n"
     ]
    }
   ],
   "source": [
    "# count number of line sin each file in recipes/mask_human/org_data\n",
    "!wc -l recipes/mask_human/org_data/train.src"
   ]
  },
  {
   "cell_type": "code",
   "execution_count": 3,
   "metadata": {},
   "outputs": [
    {
     "name": "stdout",
     "output_type": "stream",
     "text": [
      "1576900 recipes/mask_human/org_data/train.tgt\n"
     ]
    }
   ],
   "source": [
    "!wc -l recipes/mask_human/org_data/train.tgt"
   ]
  },
  {
   "cell_type": "code",
   "execution_count": 10,
   "metadata": {},
   "outputs": [
    {
     "name": "stdout",
     "output_type": "stream",
     "text": [
      "src: Bean, Pasta and Roasted Pepper Soup Ingredients: 1 tbsp. olive oil 2 large carrots 2 stalk celery 1 large onion 1 tbsp. chopped fresh parsley 3 clove garlic 1 can Swanson Chicken Broth 1 can black beans 1 can diced tomatoes 1/2 c. uncooked ditalini pasta 1/2 c. roasted sweet red pepper strips 1 tbsp. red wine vinegar Directions: -Heat oil in saucepot. -Add carrots, celery, onion, parsley and garlic and cook until tender. -[MASK] -Heat to a boil. -Cover and cook 15 min. -or until pasta is done. -Add peppers and vinegar. -Heat through.\n",
      "\n",
      "tgt: Add broth, beans, tomatoes and pasta.\n",
      "\n",
      "\n",
      "src: Feta Cheese with Egg Ingredients: 1 clove garlic 1 teaspoon ground coriander 2 tablespoons extra-virgin olive oil 2 slices feta cheese 1 egg 1 tomato, chopped (optional) Directions: -[MASK] -Lay the slices of cheese on top and leave over medium heat until the cheese begins to fall apart. -Break open the egg over it, and if you like, surround with chopped tomato. -Cook until the egg is done to your liking. -My cousin Steve, who gave me this recipe, puts a lid on so that the top of the egg becomes opaque and misty. -Eat with a dribble of the remaining oil.\n",
      "\n",
      "tgt: In a small frying pan, fry the garlic with the coriander in 1 tablespoon oil for moments only, until the aroma rises.\n",
      "\n",
      "\n",
      "src: Banana Vodka Punch Recipe Ingredients:  [MASK]  Directions: -Ice // rocks\n",
      "\n",
      "tgt: 1 ounce Vodka 1 ounce Banana Schnapps 1 ounce cherry mix 1/2 x orange juice 1/2 x pineapple juice\n",
      "\n",
      "\n",
      "src: Prosciutto And Parmesan Pinwheels Ingredients: 1 (17.5 ounce) package frozen puff pastry sheets, thawed 5 ounces prosciutto, thinly sliced 5 ounces Parmesan cheese, thinly sliced 2 teaspoons prepared Dijon mustard Directions: -[MASK] -Roll the thawed pastry out onto a flat surface. Spread Dijon mustard to taste on the pastry sheets. Cover pastry with a layer of prosciutto, then cheese. Roll the sheets, beginning at the long side. Cut into 1 inch thick sections. Arrange the sections on the prepared baking sheet. -Bake 10 to 12 minutes.\n",
      "\n",
      "tgt: Preheat oven to 350 degrees F (175 degrees C). Spray a baking sheet with nonstick oil spray.\n",
      "\n",
      "\n",
      "src: Mexican Wedding Cookies Ingredients:  [MASK]  Directions: -Cream margarine with confectioners sugar, then blend in vanilla, sifted flour and chopped pecans. -Chill and then take out pieces of dough and roll into about the size of a walnut or mold into fingers. -Bake on ungreased sheet for about 15 minutes at 350°.\n",
      "\n",
      "tgt: 1 c. margarine 1/2 c. confectioners sugar 1/2 tsp. vanilla 1 3/4 c. sifted flour 1 c. chopped pecans\n",
      "\n",
      "\n"
     ]
    }
   ],
   "source": [
    "# print first 5 lines from recipes/mask_human/org_data/{split}.src and recipes/mask_human/org_data/{split}.tgt\n",
    "split = 'train'\n",
    "with open(f'recipes/mask_human/org_data/{split}.src', 'r') as f:\n",
    "    src_lines = f.readlines()\n",
    "with open(f'recipes/mask_human/org_data/{split}.tgt', 'r') as f:\n",
    "    tgt_lines = f.readlines()\n",
    "for i in range(5):\n",
    "    print(f'src: {src_lines[i]}')\n",
    "    print(f'tgt: {tgt_lines[i]}')\n",
    "    print()"
   ]
  },
  {
   "cell_type": "code",
   "execution_count": null,
   "metadata": {},
   "outputs": [],
   "source": [
    "print(masking30_src)"
   ]
  },
  {
   "cell_type": "code",
   "execution_count": null,
   "metadata": {},
   "outputs": [],
   "source": [
    "print(masking30_tgt)"
   ]
  },
  {
   "cell_type": "code",
   "execution_count": null,
   "metadata": {},
   "outputs": [],
   "source": [
    "masking30_tgt"
   ]
  },
  {
   "cell_type": "code",
   "execution_count": null,
   "metadata": {},
   "outputs": [],
   "source": [
    "masking30_tgt"
   ]
  },
  {
   "cell_type": "code",
   "execution_count": null,
   "metadata": {},
   "outputs": [],
   "source": []
  }
 ],
 "metadata": {
  "kernelspec": {
   "display_name": "gcilleru-npm",
   "language": "python",
   "name": "python3"
  },
  "language_info": {
   "codemirror_mode": {
    "name": "ipython",
    "version": 3
   },
   "file_extension": ".py",
   "mimetype": "text/x-python",
   "name": "python",
   "nbconvert_exporter": "python",
   "pygments_lexer": "ipython3",
   "version": "3.8.10"
  }
 },
 "nbformat": 4,
 "nbformat_minor": 2
}
