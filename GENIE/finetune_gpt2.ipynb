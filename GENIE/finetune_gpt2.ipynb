{
 "cells": [
  {
   "cell_type": "code",
   "execution_count": 2,
   "metadata": {},
   "outputs": [
    {
     "name": "stderr",
     "output_type": "stream",
     "text": [
      "/home/gcilleru/ProphetNet/GENIE/.venv/lib/python3.8/site-packages/tqdm/auto.py:21: TqdmWarning: IProgress not found. Please update jupyter and ipywidgets. See https://ipywidgets.readthedocs.io/en/stable/user_install.html\n",
      "  from .autonotebook import tqdm as notebook_tqdm\n"
     ]
    }
   ],
   "source": [
    "import re\n",
    "import json\n",
    "import tqdm\n",
    "import random\n",
    "from datasets import load_dataset\n",
    "from transformers import AutoTokenizer\n",
    "random.seed(101)"
   ]
  },
  {
   "cell_type": "code",
   "execution_count": 6,
   "metadata": {},
   "outputs": [
    {
     "name": "stderr",
     "output_type": "stream",
     "text": [
      "/home/gcilleru/ProphetNet/GENIE/.venv/lib/python3.8/site-packages/datasets/table.py:1421: FutureWarning: promote has been superseded by mode='default'.\n",
      "  table = cls._concat_blocks(blocks, axis=0)\n"
     ]
    }
   ],
   "source": [
    "dataset = load_dataset(\"recipe_nlg\", data_dir=\"recipes/raw/dataset\")"
   ]
  },
  {
   "cell_type": "code",
   "execution_count": 3,
   "metadata": {},
   "outputs": [],
   "source": [
    "with open(\"recipes/raw/masked_recipes.json\", \"r\") as f:\n",
    "    masked_recipes = json.load(f)"
   ]
  },
  {
   "cell_type": "code",
   "execution_count": 4,
   "metadata": {},
   "outputs": [],
   "source": [
    "random.seed(101)\n",
    "# split dataset into train, valid, test\n",
    "random.shuffle(masked_recipes)\n",
    "train = masked_recipes[:int(len(masked_recipes)*0.8)]\n",
    "valid = masked_recipes[int(len(masked_recipes)*0.8):int(len(masked_recipes)*0.95)]\n",
    "test = masked_recipes[int(len(masked_recipes)*0.95):]"
   ]
  },
  {
   "cell_type": "code",
   "execution_count": 7,
   "metadata": {},
   "outputs": [],
   "source": [
    "train_ids = [recipe[\"id\"] for recipe in train]\n",
    "dev_ids = [recipe[\"id\"] for recipe in valid]\n",
    "test_ids = [recipe[\"id\"] for recipe in test]"
   ]
  },
  {
   "cell_type": "code",
   "execution_count": 13,
   "metadata": {},
   "outputs": [
    {
     "name": "stderr",
     "output_type": "stream",
     "text": [
      "100%|██████████| 1576901/1576901 [03:22<00:00, 7798.63it/s]\n",
      "100%|██████████| 295669/295669 [00:34<00:00, 8463.95it/s]\n",
      "100%|██████████| 98557/98557 [00:11<00:00, 8324.04it/s]\n"
     ]
    }
   ],
   "source": [
    "train_split = []\n",
    "dev_split = []\n",
    "test_split = []\n",
    "for split, ids in zip([train_split, dev_split, test_split], [train_ids, dev_ids, test_ids]):\n",
    "    for id in tqdm.tqdm(ids):\n",
    "            split.append(dataset[\"train\"][id])\n",
    "                "
   ]
  },
  {
   "cell_type": "code",
   "execution_count": 19,
   "metadata": {},
   "outputs": [
    {
     "data": {
      "text/plain": [
       "'Bean, Pasta and Roasted Pepper Soup Ingredients: 1 tbsp. olive oil 2 large carrots 2 stalk celery 1 large onion 1 tbsp. chopped fresh parsley 3 clove garlic 1 can Swanson Chicken Broth 1 can black beans 1 can diced tomatoes 1/2 c. uncooked ditalini pasta 1/2 c. roasted sweet red pepper strips 1 tbsp. red wine vinegar Directions: -Heat oil in saucepot. -Add carrots, celery, onion, parsley and garlic and cook until tender. -Add broth, beans, tomatoes and pasta. -Heat to a boil. -Cover and cook 15 min. -or until pasta is done. -Add peppers and vinegar. -Heat through.'"
      ]
     },
     "execution_count": 19,
     "metadata": {},
     "output_type": "execute_result"
    }
   ],
   "source": [
    "def build_recipe(sample):\n",
    "    return sample[\"title\"] + \" Ingredients: \" + \" \".join(sample[\"ingredients\"]) + \" Directions: -\" + \" -\".join(sample[\"directions\"])\n",
    "build_recipe(train_split[0])"
   ]
  },
  {
   "cell_type": "code",
   "execution_count": 21,
   "metadata": {},
   "outputs": [],
   "source": [
    "# save data by writting it to a {split}.txt file in recipes/gpt2/data\n",
    "for split, name in zip([train_split, dev_split, test_split], [\"train\", \"dev\", \"test\"]):\n",
    "    with open(f\"recipes/gpt2/data/{name}.txt\", \"w\") as f:\n",
    "        for recipe in split:\n",
    "            f.write(build_recipe(recipe) + \"\\n\")"
   ]
  },
  {
   "cell_type": "code",
   "execution_count": 23,
   "metadata": {},
   "outputs": [
    {
     "name": "stderr",
     "output_type": "stream",
     "text": [
      "Downloading: 100%|██████████| 548M/548M [00:05<00:00, 94.7MB/s] \n"
     ]
    }
   ],
   "source": [
    "train_path = 'recipes/gpt2/data/train.txt'\n",
    "dev_path = 'recipes/gpt2/data/dev.txt'\n",
    "test_path = 'recipes/gpt2/data/test.txt'\n",
    "\n",
    "from torch.utils.data import Dataset\n",
    "from transformers import GPT2Tokenizer\n",
    "\n",
    "class TextDataset(Dataset):\n",
    "    def __init__(self, file_path):\n",
    "        self.file_path = file_path\n",
    "        self.tokenizer = GPT2Tokenizer.from_pretrained('gpt2')\n",
    "        self.inputs = []\n",
    "        self.masks = []\n",
    "\n",
    "    def read_data(self):\n",
    "        with open(self.file_path, 'r', encoding='utf-8') as f:\n",
    "            lines = f.readlines()\n",
    "            for line in lines:\n",
    "                encodings = self.tokenizer(line.strip(), truncation=True, max_length=512, padding=\"max_length\")\n",
    "                self.inputs.append(encodings['input_ids'])\n",
    "                self.masks.append(encodings['attention_mask'])\n",
    "\n",
    "    def __len__(self):\n",
    "        return len(self.inputs)\n",
    "\n",
    "    def __getitem__(self, idx):\n",
    "        return {\n",
    "            'input_ids': self.inputs[idx],\n",
    "            'attention_mask': self.masks[idx]\n",
    "        }\n",
    "\n",
    "\n",
    "from transformers import AutoModelForCausalLM, AutoTokenizer\n",
    "tokenizer = AutoTokenizer.from_pretrained(\"gpt2\")\n",
    "model = AutoModelForCausalLM.from_pretrained(\"gpt2\")\n",
    "\n",
    "train_dataset = TextDataset(train_path)\n",
    "train_dataset.read_data()\n",
    "\n",
    "dev_dataset = TextDataset(dev_path)\n",
    "dev_dataset.read_data()\n",
    "\n",
    "\n",
    "import torch\n",
    "from transformers import Trainer, TrainingArguments\n",
    "training_args = TrainingArguments(\n",
    "    output_dir=\"./gpt2_finetuned\", #The output directory\n",
    "    overwrite_output_dir=True, #overwrite the content of the output directory\n",
    "    num_train_epochs=3, # number of training epochs\n",
    "    per_device_train_batch_size=32, # batch size for training\n",
    "    per_device_eval_batch_size=64,  # batch size for evaluation\n",
    "    eval_steps = 10000, # Number of update steps between two evaluations.\n",
    "    save_steps=10000, # after # steps model is saved \n",
    "    warmup_steps=500,# number of warmup steps for learning rate scheduler\n",
    ")\n",
    "    \n",
    "trainer = Trainer(\n",
    "    model=model,\n",
    "    args=training_args,\n",
    "    data_collator=lambda data: {'input_ids': torch.stack([f[0] for f in data]), 'labels': torch.stack([f[1] for f in data])},\n",
    "    train_dataset=train_dataset,\n",
    "    eval_dataset=dev_dataset\n",
    ")"
   ]
  },
  {
   "cell_type": "code",
   "execution_count": null,
   "metadata": {},
   "outputs": [],
   "source": [
    "# !CUDA_VISIBLE_DEVICES=3 python finetune_gpt2.py"
   ]
  },
  {
   "cell_type": "code",
   "execution_count": 1,
   "metadata": {},
   "outputs": [
    {
     "name": "stderr",
     "output_type": "stream",
     "text": [
      "/home/gcilleru/ProphetNet/GENIE/.venv/lib/python3.8/site-packages/tqdm/auto.py:21: TqdmWarning: IProgress not found. Please update jupyter and ipywidgets. See https://ipywidgets.readthedocs.io/en/stable/user_install.html\n",
      "  from .autonotebook import tqdm as notebook_tqdm\n"
     ]
    }
   ],
   "source": [
    "from transformers import TextDataset, DataCollatorForLanguageModeling\n"
   ]
  }
 ],
 "metadata": {
  "kernelspec": {
   "display_name": ".venv",
   "language": "python",
   "name": "python3"
  },
  "language_info": {
   "codemirror_mode": {
    "name": "ipython",
    "version": 3
   },
   "file_extension": ".py",
   "mimetype": "text/x-python",
   "name": "python",
   "nbconvert_exporter": "python",
   "pygments_lexer": "ipython3",
   "version": "3.8.10"
  }
 },
 "nbformat": 4,
 "nbformat_minor": 2
}
