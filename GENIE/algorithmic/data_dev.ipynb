{
 "cells": [
  {
   "cell_type": "code",
   "execution_count": 2,
   "metadata": {},
   "outputs": [],
   "source": [
    "# bert\n",
    "import random\n",
    "from transformers import AutoTokenizer\n",
    "from utils.algorithmic_tokenizer import AlgorithmicTokenizer\n",
    "random.seed(101)"
   ]
  },
  {
   "cell_type": "code",
   "execution_count": 3,
   "metadata": {},
   "outputs": [],
   "source": [
    "modulus = 113"
   ]
  },
  {
   "cell_type": "code",
   "execution_count": 4,
   "metadata": {},
   "outputs": [],
   "source": [
    "tokenizer = AutoTokenizer.from_pretrained('bert-base-uncased')"
   ]
  },
  {
   "cell_type": "code",
   "execution_count": null,
   "metadata": {},
   "outputs": [],
   "source": []
  },
  {
   "cell_type": "code",
   "execution_count": 5,
   "metadata": {},
   "outputs": [],
   "source": [
    "# check that all tokens in the vocabulary are encoded as 1 token by bert\n",
    "vocabulary = [\"[SEP]\", \"[CLS]\", \"[UNK]\", \"[PAD]\", \"+\", \"-\", \"*\", \"p\", \"q\", \"r\", \"s\", \"t\", \"m\"] + [str(n) for n in list(range(0,113))]\n",
    "for n in vocabulary:\n",
    "    assert len(tokenizer.encode(n))"
   ]
  },
  {
   "cell_type": "code",
   "execution_count": 9,
   "metadata": {},
   "outputs": [
    {
     "data": {
      "text/plain": [
       "126"
      ]
     },
     "execution_count": 9,
     "metadata": {},
     "output_type": "execute_result"
    }
   ],
   "source": [
    "len(vocabulary)"
   ]
  },
  {
   "cell_type": "code",
   "execution_count": 6,
   "metadata": {},
   "outputs": [],
   "source": [
    "custom_tokenizer = AlgorithmicTokenizer(vocab=vocabulary, unk_token=\"[UNK]\", pad_token=\"[PAD]\")\n"
   ]
  },
  {
   "cell_type": "code",
   "execution_count": 8,
   "metadata": {},
   "outputs": [],
   "source": [
    "\n",
    "data = []\n",
    "for a in range(0,modulus):\n",
    "    for b in range(0,modulus):\n",
    "        data.append({\n",
    "            \"src\": str(a) + \" + \" + str(b),\n",
    "            \"tgt\": str((a + b)%modulus)\n",
    "        })\n",
    "\n",
    "# 20% train, 70% dev, 10% test\n",
    "random.shuffle(data)\n",
    "train = data[:int(len(data)*0.2)]\n",
    "dev = data[int(len(data)*0.2):int(len(data)*0.9)]\n",
    "test = data[int(len(data)*0.9):]\n",
    "\n",
    "data_path = \"data/raw/+/\"\n",
    "# save to train.src, train.tgt, dev.src, dev.tgt, test.src, test.tgt\n",
    "for d, name in zip([train, dev, test], [\"train\", \"dev\", \"test\"]):\n",
    "    with open(data_path + name + \".src\", \"w\") as f:\n",
    "        for line in d:\n",
    "            f.write(line[\"src\"] + \"\\n\")\n",
    "    with open(data_path + name + \".tgt\", \"w\") as f:\n",
    "        for line in d:\n",
    "            f.write(line[\"tgt\"] + \"\\n\")"
   ]
  },
  {
   "cell_type": "code",
   "execution_count": null,
   "metadata": {},
   "outputs": [],
   "source": []
  }
 ],
 "metadata": {
  "kernelspec": {
   "display_name": "codenames",
   "language": "python",
   "name": "python3"
  },
  "language_info": {
   "codemirror_mode": {
    "name": "ipython",
    "version": 3
   },
   "file_extension": ".py",
   "mimetype": "text/x-python",
   "name": "python",
   "nbconvert_exporter": "python",
   "pygments_lexer": "ipython3",
   "version": "3.8.10"
  }
 },
 "nbformat": 4,
 "nbformat_minor": 2
}
