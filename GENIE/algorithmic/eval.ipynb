{
 "cells": [
  {
   "cell_type": "code",
   "execution_count": null,
   "metadata": {},
   "outputs": [],
   "source": []
  },
  {
   "cell_type": "code",
   "execution_count": 1,
   "metadata": {},
   "outputs": [
    {
     "name": "stdout",
     "output_type": "stream",
     "text": [
      "Epoch 0: 0.11198120595144871\n"
     ]
    }
   ],
   "source": [
    "eval_path = \"data/experiments/full/+/eval/\"\n",
    "truth_file = \"data/raw/+/test.tgt\"\n",
    "# read ground truth values\n",
    "with open(truth_file, \"r\") as f:\n",
    "    gold = f.readlines()\n",
    "for e in range(1):\n",
    "    file_name = f\"rank0_gen_seed_101_num1_epoch{e+1}.txt\"\n",
    "    with open(eval_path + file_name, \"r\") as f:\n",
    "        pred = f.readlines()\n",
    "    # compute accuracy\n",
    "    correct = 0\n",
    "    for i in range(len(gold)):\n",
    "        if gold[i] == pred[i]:\n",
    "            correct += 1\n",
    "    acc = correct / len(gold)\n",
    "    print(f\"Epoch {e}: {acc}\")\n"
   ]
  },
  {
   "cell_type": "code",
   "execution_count": null,
   "metadata": {},
   "outputs": [],
   "source": []
  }
 ],
 "metadata": {
  "kernelspec": {
   "display_name": ".venv",
   "language": "python",
   "name": "python3"
  },
  "language_info": {
   "codemirror_mode": {
    "name": "ipython",
    "version": 3
   },
   "file_extension": ".py",
   "mimetype": "text/x-python",
   "name": "python",
   "nbconvert_exporter": "python",
   "pygments_lexer": "ipython3",
   "version": "3.8.10"
  }
 },
 "nbformat": 4,
 "nbformat_minor": 2
}
